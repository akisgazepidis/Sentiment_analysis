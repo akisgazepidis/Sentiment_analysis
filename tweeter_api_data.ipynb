{
 "cells": [
  {
   "cell_type": "code",
   "execution_count": 2,
   "metadata": {
    "ExecuteTime": {
     "end_time": "2021-08-09T09:34:32.019825Z",
     "start_time": "2021-08-09T09:34:31.999850Z"
    }
   },
   "outputs": [],
   "source": [
    "import pandas as pd\n",
    "import numpy as np\n",
    "import re\n",
    "import tweepy\n",
    "import json\n",
    "from textblob import TextBlob\n",
    "pd.set_option('display.max_colwidth', 150)\n",
    "import time\n",
    "from datetime import timedelta"
   ]
  },
  {
   "cell_type": "code",
   "execution_count": 3,
   "metadata": {
    "ExecuteTime": {
     "end_time": "2021-08-09T09:34:33.435569Z",
     "start_time": "2021-08-09T09:34:33.417620Z"
    }
   },
   "outputs": [],
   "source": [
    "with open('twitter_creds.json') as json_file:\n",
    "    twitter_creds = json.load(json_file)"
   ]
  },
  {
   "cell_type": "code",
   "execution_count": 4,
   "metadata": {
    "ExecuteTime": {
     "end_time": "2021-08-09T09:34:34.601390Z",
     "start_time": "2021-08-09T09:34:34.580424Z"
    },
    "scrolled": true
   },
   "outputs": [],
   "source": [
    "eng_twits = pd.read_csv('eng_twits.csv')\n",
    "eng_twits['tweet_id'] = eng_twits['tweet_id'].apply(lambda x: x if pd.isnull(x) else str(x))\n",
    "eng_twits['user_id'] = eng_twits['user_id'].apply(lambda x: x if pd.isnull(x) else str(x))"
   ]
  },
  {
   "cell_type": "code",
   "execution_count": 5,
   "metadata": {
    "ExecuteTime": {
     "end_time": "2021-08-09T09:35:15.957696Z",
     "start_time": "2021-08-09T09:34:41.013606Z"
    }
   },
   "outputs": [
    {
     "name": "stdout",
     "output_type": "stream",
     "text": [
      "enter the hashtag : #Πυρκαγια\n"
     ]
    }
   ],
   "source": [
    "auth = tweepy.OAuthHandler(consumer_key=twitter_creds['api_key'], consumer_secret=twitter_creds['api_key_secret'])\n",
    "auth.set_access_token(twitter_creds['access_token'], twitter_creds['access_token_secret'])\n",
    "\n",
    "api = tweepy.API(auth, wait_on_rate_limit=True)\n",
    "\n",
    "choice = input('enter the hashtag : ')\n",
    "\n",
    "elements= tweepy.Cursor(api.search,\n",
    "                      q=choice,\n",
    "                      tweet_mode='extended',\n",
    "                      lang='en',\n",
    "                     ).items(400)\n",
    "\n",
    "list_tweets = [elmnt for elmnt in elements]\n",
    "missing = np.nan\n",
    "for twt in list_tweets:\n",
    "    try:\n",
    "        username = twt.user.screen_name\n",
    "    except:\n",
    "        username = missing\n",
    "    try:\n",
    "        user_id = twt.user.id_str\n",
    "    except:\n",
    "        user_id = missing\n",
    "    try:\n",
    "        tweet_id = twt.id_str\n",
    "    except:\n",
    "        tweet_id = missing\n",
    "    try:\n",
    "        time = twt.retweeted_status.created_at\n",
    "    except:\n",
    "        time = missing\n",
    "    try:\n",
    "        description = twt.user.description\n",
    "    except:\n",
    "        description = missing\n",
    "    try:\n",
    "        location = twt.user.location\n",
    "    except:\n",
    "        location = missing\n",
    "    try:\n",
    "        following = twt.user.friends_count\n",
    "    except:\n",
    "        following = missing\n",
    "    try:\n",
    "        followers = twt.user.followers_count\n",
    "    except:\n",
    "        followers = missing\n",
    "    try:\n",
    "        totaltweets = twt.user.statuses_count\n",
    "    except:\n",
    "        totaltweets = missing\n",
    "    try:\n",
    "        retweetcount = twt.retweet_count\n",
    "    except:\n",
    "        retweetcount = missing\n",
    "    try:\n",
    "        hashtags = []\n",
    "        for has_texts in twt.entities['hashtags']:\n",
    "            hashtags.append(has_texts['text'])\n",
    "    except:\n",
    "        hashtags.append(missing)\n",
    "    try:\n",
    "        retweet_hashtags = []\n",
    "        for has_texts in twt.retweeted_status.entities['hashtags']:\n",
    "            retweet_hashtags.append(has_texts['text'])\n",
    "    except:\n",
    "        retweet_hashtags.append(missing)\n",
    "    try:\n",
    "        tweets = twt.retweeted_status.full_text\n",
    "    except:\n",
    "        tweets = missing\n",
    "    temp_dic  = {'username' : username,\n",
    "                 'user_id' : user_id,\n",
    "                 'tweet_id' : tweet_id,\n",
    "                 'time' : time,\n",
    "                  'description' : description,\n",
    "                  'location' : location,\n",
    "                  'following' : following,\n",
    "                  'followers': followers,\n",
    "                  'totaltweets' : totaltweets,\n",
    "                  'retweetcount' : retweetcount,\n",
    "                 'hashtags' : hashtags,\n",
    "                  'retweet_hashtags' : retweet_hashtags,\n",
    "                  'tweets' : tweets,\n",
    "                } \n",
    "#     eng_twits = eng_twits.append(temp_dic, ignore_index=True)                        \n",
    "\n",
    "    if eng_twits[(eng_twits['user_id']==temp_dic['user_id']) & (eng_twits['tweet_id']==temp_dic['tweet_id'])].empty == True:\n",
    "        eng_twits = eng_twits.append(temp_dic, ignore_index=True)                        \n",
    "    else:\n",
    "        pass\n",
    "eng_twits.to_csv('eng_twits.csv', index=False)"
   ]
  },
  {
   "cell_type": "code",
   "execution_count": 200,
   "metadata": {
    "ExecuteTime": {
     "end_time": "2021-08-07T11:43:06.112017Z",
     "start_time": "2021-08-07T11:42:37.214768Z"
    }
   },
   "outputs": [
    {
     "name": "stdout",
     "output_type": "stream",
     "text": [
      "enter the hashtag : #Πυρκαγια\n"
     ]
    },
    {
     "data": {
      "application/javascript": [
       "\n",
       "        if (window._pyforest_update_imports_cell) { window._pyforest_update_imports_cell('import pandas as pd\\nimport numpy as np'); }\n",
       "    "
      ],
      "text/plain": [
       "<IPython.core.display.Javascript object>"
      ]
     },
     "metadata": {},
     "output_type": "display_data"
    }
   ],
   "source": [
    "#     tweeter_scrapes = tweeter_scrapes.append(temp_dic, ignore_index=True)                        \n",
    "\n",
    "    if tweeter_scrapes[(tweeter_scrapes['user_id']==temp_dic['user_id']) & (tweeter_scrapes['tweet_id']==temp_dic['tweet_id'])].empty == True:\n",
    "        tweeter_scrapes = tweeter_scrapes.append(temp_dic, ignore_index=True)                        \n",
    "    else:\n",
    "        pass\n",
    "tweeter_scrapes.to_csv('tweeter_scrapes.csv', index=False)"
   ]
  },
  {
   "cell_type": "code",
   "execution_count": 202,
   "metadata": {
    "ExecuteTime": {
     "end_time": "2021-08-07T11:43:24.139525Z",
     "start_time": "2021-08-07T11:43:24.123569Z"
    },
    "scrolled": true
   },
   "outputs": [
    {
     "data": {
      "text/plain": [
       "(1369, 13)"
      ]
     },
     "execution_count": 202,
     "metadata": {},
     "output_type": "execute_result"
    }
   ],
   "source": [
    "tweeter_scrapes.shape"
   ]
  },
  {
   "cell_type": "code",
   "execution_count": 201,
   "metadata": {
    "ExecuteTime": {
     "end_time": "2021-08-07T11:43:18.695478Z",
     "start_time": "2021-08-07T11:43:18.685506Z"
    }
   },
   "outputs": [
    {
     "data": {
      "text/plain": [
       "0"
      ]
     },
     "execution_count": 201,
     "metadata": {},
     "output_type": "execute_result"
    }
   ],
   "source": [
    "tweeter_scrapes['tweet_id'].duplicated().sum()"
   ]
  },
  {
   "cell_type": "code",
   "execution_count": 191,
   "metadata": {
    "ExecuteTime": {
     "end_time": "2021-08-07T11:39:45.915478Z",
     "start_time": "2021-08-07T11:39:45.895531Z"
    }
   },
   "outputs": [
    {
     "data": {
      "text/html": [
       "<div>\n",
       "<style scoped>\n",
       "    .dataframe tbody tr th:only-of-type {\n",
       "        vertical-align: middle;\n",
       "    }\n",
       "\n",
       "    .dataframe tbody tr th {\n",
       "        vertical-align: top;\n",
       "    }\n",
       "\n",
       "    .dataframe thead th {\n",
       "        text-align: right;\n",
       "    }\n",
       "</style>\n",
       "<table border=\"1\" class=\"dataframe\">\n",
       "  <thead>\n",
       "    <tr style=\"text-align: right;\">\n",
       "      <th></th>\n",
       "      <th>description</th>\n",
       "      <th>followers</th>\n",
       "      <th>following</th>\n",
       "      <th>hashtags</th>\n",
       "      <th>location</th>\n",
       "      <th>retweet_hashtags</th>\n",
       "      <th>retweetcount</th>\n",
       "      <th>time</th>\n",
       "      <th>totaltweets</th>\n",
       "      <th>tweet_id</th>\n",
       "      <th>tweets</th>\n",
       "      <th>user_id</th>\n",
       "      <th>username</th>\n",
       "    </tr>\n",
       "  </thead>\n",
       "  <tbody>\n",
       "    <tr>\n",
       "      <th>0</th>\n",
       "      <td>Lalita y Laliter Griega💚 Justin Bieber,CNCO,Barchie,Peter Lanzani,RuggeroP 💚💚AN FTW💚💚</td>\n",
       "      <td>987.0</td>\n",
       "      <td>2311.0</td>\n",
       "      <td>['φωτια', 'φωτιες', 'πυρκαγια', 'ζωα_σε_κινδυνο', 'ζωα']</td>\n",
       "      <td>Greece</td>\n",
       "      <td>['φωτια', 'φωτιες', 'πυρκαγια', 'ζωα_σε_κινδυνο', 'ζωα']</td>\n",
       "      <td>99.0</td>\n",
       "      <td>2021-08-06 21:13:41</td>\n",
       "      <td>23547.0</td>\n",
       "      <td>1423969677714276353</td>\n",
       "      <td>❗❗❗❗❗❗❗\\n#φωτια #φωτιες #πυρκαγια #ζωα_σε_κινδυνο #ζωα https://t.co/G54VaYPjIR</td>\n",
       "      <td>1410807210</td>\n",
       "      <td>MeliLaliterok</td>\n",
       "    </tr>\n",
       "    <tr>\n",
       "      <th>1</th>\n",
       "      <td>Antzela</td>\n",
       "      <td>47.0</td>\n",
       "      <td>55.0</td>\n",
       "      <td>['unboxholics']</td>\n",
       "      <td>NaN</td>\n",
       "      <td>['unboxholics', 'Πυρκαγια', 'φωτιες']</td>\n",
       "      <td>4.0</td>\n",
       "      <td>2021-08-07 11:28:09</td>\n",
       "      <td>184.0</td>\n",
       "      <td>1423969674702753792</td>\n",
       "      <td>Συγχαρητήρια στους #unboxholics\\nπου το βράδυ της Παρασκευής σε  live stream, συγκέντρωσαν το ποσό των 306.000 ευρώ μέσα σε τρεις ώρες.Τα χρήματα ...</td>\n",
       "      <td>1329062462604374017</td>\n",
       "      <td>antzela_blond</td>\n",
       "    </tr>\n",
       "    <tr>\n",
       "      <th>2</th>\n",
       "      <td>ΑΔΙΟΡΙΣΤΗ  🤷🏽‍♀️</td>\n",
       "      <td>3395.0</td>\n",
       "      <td>246.0</td>\n",
       "      <td>['Πυρκαγια', 'φωτιες', 'Ευβοια', 'Ιστιαια']</td>\n",
       "      <td>σ αεροπλάνα και βαπόρια</td>\n",
       "      <td>[nan]</td>\n",
       "      <td>0.0</td>\n",
       "      <td>NaN</td>\n",
       "      <td>21494.0</td>\n",
       "      <td>1423969673603952642</td>\n",
       "      <td>NaN</td>\n",
       "      <td>38877813</td>\n",
       "      <td>GiwtaGiouMerlia</td>\n",
       "    </tr>\n",
       "    <tr>\n",
       "      <th>3</th>\n",
       "      <td>σπάω πέτρες\\nΛιθαγωγία</td>\n",
       "      <td>23923.0</td>\n",
       "      <td>7439.0</td>\n",
       "      <td>[]</td>\n",
       "      <td>*misty Mountains*</td>\n",
       "      <td>['opentv', 'Πυρκαγια', 'Μητσοτακη_καθαρμα']</td>\n",
       "      <td>111.0</td>\n",
       "      <td>2021-08-07 10:15:47</td>\n",
       "      <td>174912.0</td>\n",
       "      <td>1423969673499103234</td>\n",
       "      <td>Θυμάστε κ εσείς τους κλέφτες στο Μάτι, που ήταν Ρομά, γύφτοι κλπ και τελικά αποδείχθηκαν πατριώτες οργανωμένοι χρυσαυγίτες;; #opentv \\n#Πυρκαγια #...</td>\n",
       "      <td>809115752</td>\n",
       "      <td>belzeboulis</td>\n",
       "    </tr>\n",
       "    <tr>\n",
       "      <th>4</th>\n",
       "      <td>a narcissist with conscience fits\\n\\nhttps://t.co/Y6uVzDrTgW</td>\n",
       "      <td>3229.0</td>\n",
       "      <td>1625.0</td>\n",
       "      <td>['opentv', 'φωτιες', 'Πυρκαγια']</td>\n",
       "      <td>Entourage</td>\n",
       "      <td>[nan]</td>\n",
       "      <td>0.0</td>\n",
       "      <td>NaN</td>\n",
       "      <td>275409.0</td>\n",
       "      <td>1423969672521678853</td>\n",
       "      <td>NaN</td>\n",
       "      <td>4107184143</td>\n",
       "      <td>bananarchyson</td>\n",
       "    </tr>\n",
       "  </tbody>\n",
       "</table>\n",
       "</div>"
      ],
      "text/plain": [
       "                                                                             description  \\\n",
       "0  Lalita y Laliter Griega💚 Justin Bieber,CNCO,Barchie,Peter Lanzani,RuggeroP 💚💚AN FTW💚💚   \n",
       "1                                                                                Antzela   \n",
       "2                                                                       ΑΔΙΟΡΙΣΤΗ  🤷🏽‍♀️   \n",
       "3                                                                 σπάω πέτρες\\nΛιθαγωγία   \n",
       "4                           a narcissist with conscience fits\\n\\nhttps://t.co/Y6uVzDrTgW   \n",
       "\n",
       "   followers  following  \\\n",
       "0      987.0     2311.0   \n",
       "1       47.0       55.0   \n",
       "2     3395.0      246.0   \n",
       "3    23923.0     7439.0   \n",
       "4     3229.0     1625.0   \n",
       "\n",
       "                                                   hashtags  \\\n",
       "0  ['φωτια', 'φωτιες', 'πυρκαγια', 'ζωα_σε_κινδυνο', 'ζωα']   \n",
       "1                                           ['unboxholics']   \n",
       "2               ['Πυρκαγια', 'φωτιες', 'Ευβοια', 'Ιστιαια']   \n",
       "3                                                        []   \n",
       "4                          ['opentv', 'φωτιες', 'Πυρκαγια']   \n",
       "\n",
       "                  location  \\\n",
       "0                   Greece   \n",
       "1                      NaN   \n",
       "2  σ αεροπλάνα και βαπόρια   \n",
       "3        *misty Mountains*   \n",
       "4                Entourage   \n",
       "\n",
       "                                           retweet_hashtags  retweetcount  \\\n",
       "0  ['φωτια', 'φωτιες', 'πυρκαγια', 'ζωα_σε_κινδυνο', 'ζωα']          99.0   \n",
       "1                     ['unboxholics', 'Πυρκαγια', 'φωτιες']           4.0   \n",
       "2                                                     [nan]           0.0   \n",
       "3               ['opentv', 'Πυρκαγια', 'Μητσοτακη_καθαρμα']         111.0   \n",
       "4                                                     [nan]           0.0   \n",
       "\n",
       "                  time  totaltweets             tweet_id  \\\n",
       "0  2021-08-06 21:13:41      23547.0  1423969677714276353   \n",
       "1  2021-08-07 11:28:09        184.0  1423969674702753792   \n",
       "2                  NaN      21494.0  1423969673603952642   \n",
       "3  2021-08-07 10:15:47     174912.0  1423969673499103234   \n",
       "4                  NaN     275409.0  1423969672521678853   \n",
       "\n",
       "                                                                                                                                                  tweets  \\\n",
       "0                                                                         ❗❗❗❗❗❗❗\\n#φωτια #φωτιες #πυρκαγια #ζωα_σε_κινδυνο #ζωα https://t.co/G54VaYPjIR   \n",
       "1  Συγχαρητήρια στους #unboxholics\\nπου το βράδυ της Παρασκευής σε  live stream, συγκέντρωσαν το ποσό των 306.000 ευρώ μέσα σε τρεις ώρες.Τα χρήματα ...   \n",
       "2                                                                                                                                                    NaN   \n",
       "3  Θυμάστε κ εσείς τους κλέφτες στο Μάτι, που ήταν Ρομά, γύφτοι κλπ και τελικά αποδείχθηκαν πατριώτες οργανωμένοι χρυσαυγίτες;; #opentv \\n#Πυρκαγια #...   \n",
       "4                                                                                                                                                    NaN   \n",
       "\n",
       "               user_id         username  \n",
       "0           1410807210    MeliLaliterok  \n",
       "1  1329062462604374017    antzela_blond  \n",
       "2             38877813  GiwtaGiouMerlia  \n",
       "3            809115752      belzeboulis  \n",
       "4           4107184143    bananarchyson  "
      ]
     },
     "execution_count": 191,
     "metadata": {},
     "output_type": "execute_result"
    }
   ],
   "source": [
    "tweeter_scrapes.head()"
   ]
  },
  {
   "cell_type": "code",
   "execution_count": null,
   "metadata": {},
   "outputs": [],
   "source": []
  }
 ],
 "metadata": {
  "kernelspec": {
   "display_name": "Python 3",
   "language": "python",
   "name": "python3"
  },
  "language_info": {
   "codemirror_mode": {
    "name": "ipython",
    "version": 3
   },
   "file_extension": ".py",
   "mimetype": "text/x-python",
   "name": "python",
   "nbconvert_exporter": "python",
   "pygments_lexer": "ipython3",
   "version": "3.8.5"
  }
 },
 "nbformat": 4,
 "nbformat_minor": 4
}
