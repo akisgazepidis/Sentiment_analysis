{
 "cells": [
  {
   "cell_type": "code",
   "execution_count": 2,
   "metadata": {
    "ExecuteTime": {
     "end_time": "2021-11-26T10:37:44.846961Z",
     "start_time": "2021-11-26T10:37:44.063570Z"
    }
   },
   "outputs": [
    {
     "data": {
      "application/javascript": [
       "\n",
       "        if (window._pyforest_update_imports_cell) { window._pyforest_update_imports_cell('import nltk'); }\n",
       "    "
      ],
      "text/plain": [
       "<IPython.core.display.Javascript object>"
      ]
     },
     "metadata": {},
     "output_type": "display_data"
    },
    {
     "name": "stderr",
     "output_type": "stream",
     "text": [
      "[nltk_data] Downloading package vader_lexicon to C:\\Users\\Intel PC\n",
      "[nltk_data]     G5900\\AppData\\Roaming\\nltk_data...\n",
      "[nltk_data]   Package vader_lexicon is already up-to-date!\n"
     ]
    }
   ],
   "source": [
    "import pandas as pd\n",
    "import numpy as np\n",
    "import re\n",
    "import tweepy\n",
    "import json\n",
    "from textblob import TextBlob\n",
    "pd.set_option('display.max_colwidth', 280)\n",
    "import time\n",
    "from datetime import timedelta\n",
    "from nltk.sentiment.vader import SentimentIntensityAnalyzer\n",
    "nltk.download('vader_lexicon')\n",
    "vader = SentimentIntensityAnalyzer()\n",
    "import spacy\n",
    "from spacytextblob.spacytextblob import SpacyTextBlob\n",
    "nlp = spacy.load('en_core_web_sm')\n",
    "# nlp.add_pipe('spacytextblob')"
   ]
  },
  {
   "cell_type": "code",
   "execution_count": 36,
   "metadata": {
    "ExecuteTime": {
     "end_time": "2021-11-26T11:06:02.934075Z",
     "start_time": "2021-11-26T11:06:02.921109Z"
    }
   },
   "outputs": [
    {
     "data": {
      "text/plain": [
       "{'neg': 0.0, 'neu': 0.185, 'pos': 0.815, 'compound': 0.6588}"
      ]
     },
     "execution_count": 36,
     "metadata": {},
     "output_type": "execute_result"
    }
   ],
   "source": [
    "vader.polarity_scores('I am great!')"
   ]
  },
  {
   "cell_type": "code",
   "execution_count": 6,
   "metadata": {
    "ExecuteTime": {
     "end_time": "2021-11-26T10:40:10.301935Z",
     "start_time": "2021-11-26T10:40:10.246085Z"
    }
   },
   "outputs": [],
   "source": [
    "eng_twits = pd.read_csv('eng_twits.csv')\n",
    "eng_twits['tweet_id'] = eng_twits['tweet_id'].apply(lambda x: x if pd.isnull(x) else str(x))\n",
    "eng_twits['user_id'] = eng_twits['user_id'].apply(lambda x: x if pd.isnull(x) else str(x))"
   ]
  },
  {
   "cell_type": "code",
   "execution_count": 7,
   "metadata": {
    "ExecuteTime": {
     "end_time": "2021-11-26T10:40:14.464174Z",
     "start_time": "2021-11-26T10:40:14.457192Z"
    }
   },
   "outputs": [
    {
     "data": {
      "text/plain": [
       "(1450, 13)"
      ]
     },
     "execution_count": 7,
     "metadata": {},
     "output_type": "execute_result"
    }
   ],
   "source": [
    "eng_twits.shape"
   ]
  },
  {
   "cell_type": "code",
   "execution_count": 111,
   "metadata": {
    "ExecuteTime": {
     "end_time": "2021-11-26T11:30:35.974933Z",
     "start_time": "2021-11-26T11:30:35.952991Z"
    }
   },
   "outputs": [],
   "source": [
    "def cleantxt(text):\n",
    "    '''\n",
    "    Creat a function wich will remove mentions, remove hashtag words, removing the # symbol\n",
    "    removing RT, removing the hyper link and other unnecessary characters.\n",
    "    '''\n",
    "    text = re.sub(r'@[A-Za-z0-9]+', ' ', text) #remove mentions\n",
    "    text = re.sub(r\"#(\\w+)\", ' ', text) #remove hashtag words\n",
    "    text = re.sub(r'#', ' ', text) #removing the # symbol\n",
    "    text = re.sub(r'RT[\\s]+', ' ', text) #removing RT\n",
    "    text = re.sub(r'https?:\\/\\/\\S+', ' ', text) #removing the hyper link\n",
    "    text = text.replace('\\n', ' ')\n",
    "    text = text.replace('&amp;', ' ')\n",
    "    text = text.replace('&gt;', ' ')\n",
    "    text = text.replace('_', ' ')\n",
    "    text = text.strip()\n",
    "#     text = text.lower()\n",
    "    return text\n",
    "\n",
    "def remove_emojis(data):\n",
    "    '''\n",
    "    Remove alla emoticons, flags, symbols and other characters.\n",
    "    '''\n",
    "    emoj = re.compile(\"[\"\n",
    "        u\"\\U0001F600-\\U0001F64F\"  # emoticons\n",
    "        u\"\\U0001F300-\\U0001F5FF\"  # symbols & pictographs\n",
    "        u\"\\U0001F680-\\U0001F6FF\"  # transport & map symbols\n",
    "        u\"\\U0001F1E0-\\U0001F1FF\"  # flags (iOS)\n",
    "        u\"\\U00002500-\\U00002BEF\"  # chinese char\n",
    "        u\"\\U00002702-\\U000027B0\"\n",
    "        u\"\\U00002702-\\U000027B0\"\n",
    "        u\"\\U000024C2-\\U0001F251\"\n",
    "        u\"\\U0001f926-\\U0001f937\"\n",
    "        u\"\\U00010000-\\U0010ffff\"\n",
    "        u\"\\u2640-\\u2642\" \n",
    "        u\"\\u2600-\\u2B55\"\n",
    "        u\"\\u200d\"\n",
    "        u\"\\u23cf\"\n",
    "        u\"\\u23e9\"\n",
    "        u\"\\u231a\"\n",
    "        u\"\\ufe0f\"  # dingbats\n",
    "        u\"\\u3030\"\n",
    "                      \"]+\", re.UNICODE)\n",
    "    return re.sub(emoj, '', data)\n",
    "\n",
    "def polarity(txt):\n",
    "    '''\n",
    "    Compute from Textblob text's polarity.\n",
    "    '''\n",
    "    twit_polarity = TextBlob(txt).sentiment.polarity\n",
    "    return twit_polarity\n",
    "\n",
    "def subjectivity(txt):\n",
    "    '''\n",
    "    Compute from Textblob text's subjectivity.\n",
    "    '''\n",
    "    twit_subjectivity = TextBlob(txt).sentiment.subjectivity\n",
    "    return twit_subjectivity\n",
    "\n",
    "def polarity_kind(num):\n",
    "    '''\n",
    "    Distinguish tweets in Positives, Neutrals and Negatives from Textblob's polarity.\n",
    "    '''\n",
    "    if num > 0.15:\n",
    "        polarity_kind = 'Positive'\n",
    "    elif num < 0:\n",
    "        polarity_kind = 'Negative'\n",
    "    else:\n",
    "        polarity_kind = 'Neutral'\n",
    "    return polarity_kind\n",
    "\n",
    "def vader_polarity(txt):\n",
    "    '''\n",
    "    Compute from Vader text's polarity.\n",
    "    '''\n",
    "    vader_polarity = vader.polarity_scores(txt)['compound']\n",
    "    return vader_polarity\n",
    "\n",
    "def vader_polarity_kind(num):\n",
    "    '''\n",
    "    Distinguish tweets in Positives, Neutrals and Negatives from Vader's polarity.\n",
    "    '''\n",
    "    if num > 0.15:\n",
    "        vader_polarity_kind = 'Positive'\n",
    "    elif num < -0.15:\n",
    "        vader_polarity_kind = 'Negative'\n",
    "    else:\n",
    "        vader_polarity_kind = 'Neutral'\n",
    "    \n",
    "    return vader_polarity_kind"
   ]
  },
  {
   "cell_type": "code",
   "execution_count": 112,
   "metadata": {
    "ExecuteTime": {
     "end_time": "2021-11-26T11:30:39.286073Z",
     "start_time": "2021-11-26T11:30:37.239550Z"
    }
   },
   "outputs": [],
   "source": [
    "eng_twits['cleaned_tweets'] = eng_twits['tweets'].apply(lambda x: x if pd.isnull(x) else cleantxt(x))\n",
    "eng_twits['noemojis_tweets'] = eng_twits['cleaned_tweets'].apply(lambda x: x if pd.isnull(x) else remove_emojis(x))\n",
    "eng_twits['twits_polarity'] = eng_twits['noemojis_tweets'].apply(lambda x: x if pd.isnull(x) else polarity(x))\n",
    "eng_twits['twits_subjectivity'] = eng_twits['noemojis_tweets'].apply(lambda x: x if pd.isnull(x) else subjectivity(x))\n",
    "eng_twits['polarity_kinds'] = eng_twits['twits_polarity'].apply(lambda x: x if pd.isnull(x) else polarity_kind(x))\n",
    "eng_twits['twits_vader_polarity'] = eng_twits['noemojis_tweets'].apply(lambda x: x if pd.isnull(x) else vader_polarity(x))\n",
    "eng_twits['vader_polarity_kinds'] = eng_twits['twits_vader_polarity'].apply(lambda x: x if pd.isnull(x) else vader_polarity_kind(x))\n"
   ]
  },
  {
   "cell_type": "code",
   "execution_count": 120,
   "metadata": {
    "ExecuteTime": {
     "end_time": "2021-11-26T12:55:47.362646Z",
     "start_time": "2021-11-26T12:55:47.332726Z"
    }
   },
   "outputs": [
    {
     "data": {
      "text/html": [
       "<div>\n",
       "<style scoped>\n",
       "    .dataframe tbody tr th:only-of-type {\n",
       "        vertical-align: middle;\n",
       "    }\n",
       "\n",
       "    .dataframe tbody tr th {\n",
       "        vertical-align: top;\n",
       "    }\n",
       "\n",
       "    .dataframe thead th {\n",
       "        text-align: right;\n",
       "    }\n",
       "</style>\n",
       "<table border=\"1\" class=\"dataframe\">\n",
       "  <thead>\n",
       "    <tr style=\"text-align: right;\">\n",
       "      <th></th>\n",
       "      <th>noemojis_tweets</th>\n",
       "      <th>twits_polarity</th>\n",
       "      <th>twits_subjectivity</th>\n",
       "      <th>polarity_kinds</th>\n",
       "    </tr>\n",
       "  </thead>\n",
       "  <tbody>\n",
       "    <tr>\n",
       "      <th>1</th>\n",
       "      <td>I'm just gonna leave this here. Evacuation of  . Straight out of a horror movie.</td>\n",
       "      <td>0.200000</td>\n",
       "      <td>0.400000</td>\n",
       "      <td>Positive</td>\n",
       "    </tr>\n",
       "    <tr>\n",
       "      <th>10</th>\n",
       "      <td>She ain't a famous influencer nor a tiktok star. Her name's Katerina Ioannidou   she's a volunteer forest firefighter.                  Marios Lolos</td>\n",
       "      <td>0.500000</td>\n",
       "      <td>1.000000</td>\n",
       "      <td>Positive</td>\n",
       "    </tr>\n",
       "    <tr>\n",
       "      <th>11</th>\n",
       "      <td>In Varimpompi, Greece, citizens are rounding up even at this time at night to help deliver food, drinks, and other important stuff to deliver to firefighters and fire-stricken citizens in Malakasa, Evoia and many more.</td>\n",
       "      <td>0.318750</td>\n",
       "      <td>0.593750</td>\n",
       "      <td>Positive</td>\n",
       "    </tr>\n",
       "    <tr>\n",
       "      <th>12</th>\n",
       "      <td>In case you don’t know what’s happening in Greece right now:</td>\n",
       "      <td>0.285714</td>\n",
       "      <td>0.535714</td>\n",
       "      <td>Positive</td>\n",
       "    </tr>\n",
       "    <tr>\n",
       "      <th>14</th>\n",
       "      <td>In Varimpompi, Greece, citizens are rounding up even at this time at night to help deliver food, drinks, and other important stuff to deliver to firefighters and fire-stricken citizens in Malakasa, Evoia and many more.</td>\n",
       "      <td>0.318750</td>\n",
       "      <td>0.593750</td>\n",
       "      <td>Positive</td>\n",
       "    </tr>\n",
       "  </tbody>\n",
       "</table>\n",
       "</div>"
      ],
      "text/plain": [
       "                                                                                                                                                                                                               noemojis_tweets  \\\n",
       "1                                                                                                                                             I'm just gonna leave this here. Evacuation of  . Straight out of a horror movie.   \n",
       "10                                                                        She ain't a famous influencer nor a tiktok star. Her name's Katerina Ioannidou   she's a volunteer forest firefighter.                  Marios Lolos   \n",
       "11  In Varimpompi, Greece, citizens are rounding up even at this time at night to help deliver food, drinks, and other important stuff to deliver to firefighters and fire-stricken citizens in Malakasa, Evoia and many more.   \n",
       "12                                                                                                                                                                In case you don’t know what’s happening in Greece right now:   \n",
       "14  In Varimpompi, Greece, citizens are rounding up even at this time at night to help deliver food, drinks, and other important stuff to deliver to firefighters and fire-stricken citizens in Malakasa, Evoia and many more.   \n",
       "\n",
       "    twits_polarity  twits_subjectivity polarity_kinds  \n",
       "1         0.200000            0.400000       Positive  \n",
       "10        0.500000            1.000000       Positive  \n",
       "11        0.318750            0.593750       Positive  \n",
       "12        0.285714            0.535714       Positive  \n",
       "14        0.318750            0.593750       Positive  "
      ]
     },
     "execution_count": 120,
     "metadata": {},
     "output_type": "execute_result"
    }
   ],
   "source": [
    "eng_twits[eng_twits['polarity_kinds'] == 'Positive'][['noemojis_tweets','twits_polarity', 'twits_subjectivity', 'polarity_kinds']].head(5)"
   ]
  },
  {
   "cell_type": "code",
   "execution_count": 121,
   "metadata": {
    "ExecuteTime": {
     "end_time": "2021-11-26T12:56:05.693294Z",
     "start_time": "2021-11-26T12:56:05.670356Z"
    }
   },
   "outputs": [
    {
     "data": {
      "text/html": [
       "<div>\n",
       "<style scoped>\n",
       "    .dataframe tbody tr th:only-of-type {\n",
       "        vertical-align: middle;\n",
       "    }\n",
       "\n",
       "    .dataframe tbody tr th {\n",
       "        vertical-align: top;\n",
       "    }\n",
       "\n",
       "    .dataframe thead th {\n",
       "        text-align: right;\n",
       "    }\n",
       "</style>\n",
       "<table border=\"1\" class=\"dataframe\">\n",
       "  <thead>\n",
       "    <tr style=\"text-align: right;\">\n",
       "      <th></th>\n",
       "      <th>noemojis_tweets</th>\n",
       "      <th>twits_polarity</th>\n",
       "      <th>twits_subjectivity</th>\n",
       "      <th>polarity_kinds</th>\n",
       "    </tr>\n",
       "  </thead>\n",
       "  <tbody>\n",
       "    <tr>\n",
       "      <th>0</th>\n",
       "      <td>this is the real greece. more than 140 active wildfires. people evacuating, animals getting burnt alive. greece isn’t only santorini and mykonos.</td>\n",
       "      <td>0.133333</td>\n",
       "      <td>0.56</td>\n",
       "      <td>Neutral</td>\n",
       "    </tr>\n",
       "    <tr>\n",
       "      <th>3</th>\n",
       "      <td>Y'all dreaming about vacations in Greece posting pretty photos.. let me show you a \"pretty photo\". This was captured by a Greek photographer on the national road of Lamia - Athens. It translates to: 'Greece, how sorry I am.' We're living a holocaust..</td>\n",
       "      <td>0.000000</td>\n",
       "      <td>0.75</td>\n",
       "      <td>Neutral</td>\n",
       "    </tr>\n",
       "    <tr>\n",
       "      <th>4</th>\n",
       "      <td>this is the real greece. more than 140 active wildfires. people evacuating, animals getting burnt alive. greece isn’t only santorini and mykonos.</td>\n",
       "      <td>0.133333</td>\n",
       "      <td>0.56</td>\n",
       "      <td>Neutral</td>\n",
       "    </tr>\n",
       "    <tr>\n",
       "      <th>6</th>\n",
       "      <td>HEROES</td>\n",
       "      <td>0.000000</td>\n",
       "      <td>0.00</td>\n",
       "      <td>Neutral</td>\n",
       "    </tr>\n",
       "    <tr>\n",
       "      <th>7</th>\n",
       "      <td>this is the real greece. more than 140 active wildfires. people evacuating, animals getting burnt alive. greece isn’t only santorini and mykonos.</td>\n",
       "      <td>0.133333</td>\n",
       "      <td>0.56</td>\n",
       "      <td>Neutral</td>\n",
       "    </tr>\n",
       "  </tbody>\n",
       "</table>\n",
       "</div>"
      ],
      "text/plain": [
       "                                                                                                                                                                                                                                               noemojis_tweets  \\\n",
       "0                                                                                                            this is the real greece. more than 140 active wildfires. people evacuating, animals getting burnt alive. greece isn’t only santorini and mykonos.   \n",
       "3  Y'all dreaming about vacations in Greece posting pretty photos.. let me show you a \"pretty photo\". This was captured by a Greek photographer on the national road of Lamia - Athens. It translates to: 'Greece, how sorry I am.' We're living a holocaust..   \n",
       "4                                                                                                            this is the real greece. more than 140 active wildfires. people evacuating, animals getting burnt alive. greece isn’t only santorini and mykonos.   \n",
       "6                                                                                                                                                                                                                                                       HEROES   \n",
       "7                                                                                                            this is the real greece. more than 140 active wildfires. people evacuating, animals getting burnt alive. greece isn’t only santorini and mykonos.   \n",
       "\n",
       "   twits_polarity  twits_subjectivity polarity_kinds  \n",
       "0        0.133333                0.56        Neutral  \n",
       "3        0.000000                0.75        Neutral  \n",
       "4        0.133333                0.56        Neutral  \n",
       "6        0.000000                0.00        Neutral  \n",
       "7        0.133333                0.56        Neutral  "
      ]
     },
     "execution_count": 121,
     "metadata": {},
     "output_type": "execute_result"
    }
   ],
   "source": [
    "eng_twits[eng_twits['polarity_kinds'] == 'Neutral'][['noemojis_tweets','twits_polarity', 'twits_subjectivity', 'polarity_kinds']].head(5)"
   ]
  },
  {
   "cell_type": "code",
   "execution_count": 122,
   "metadata": {
    "ExecuteTime": {
     "end_time": "2021-11-26T12:56:29.364732Z",
     "start_time": "2021-11-26T12:56:29.341792Z"
    }
   },
   "outputs": [
    {
     "data": {
      "text/html": [
       "<div>\n",
       "<style scoped>\n",
       "    .dataframe tbody tr th:only-of-type {\n",
       "        vertical-align: middle;\n",
       "    }\n",
       "\n",
       "    .dataframe tbody tr th {\n",
       "        vertical-align: top;\n",
       "    }\n",
       "\n",
       "    .dataframe thead th {\n",
       "        text-align: right;\n",
       "    }\n",
       "</style>\n",
       "<table border=\"1\" class=\"dataframe\">\n",
       "  <thead>\n",
       "    <tr style=\"text-align: right;\">\n",
       "      <th></th>\n",
       "      <th>noemojis_tweets</th>\n",
       "      <th>twits_polarity</th>\n",
       "      <th>twits_subjectivity</th>\n",
       "      <th>polarity_kinds</th>\n",
       "    </tr>\n",
       "  </thead>\n",
       "  <tbody>\n",
       "    <tr>\n",
       "      <th>2</th>\n",
       "      <td>RT!! please. i’m begging my country is being burned to the ground. i’m chronically ill   disabled,   take care of many animals. we need your help. for food, meds, water bottles, canned foods..  paypal; its.joyfulkate .com</td>\n",
       "      <td>-0.066667</td>\n",
       "      <td>0.600000</td>\n",
       "      <td>Negative</td>\n",
       "    </tr>\n",
       "    <tr>\n",
       "      <th>5</th>\n",
       "      <td>RT!! please. i’m begging my country is being burned to the ground. i’m chronically ill   disabled,   take care of many animals. we need your help. for food, meds, water bottles, canned foods..  paypal; its.joyfulkate .com</td>\n",
       "      <td>-0.066667</td>\n",
       "      <td>0.600000</td>\n",
       "      <td>Negative</td>\n",
       "    </tr>\n",
       "    <tr>\n",
       "      <th>24</th>\n",
       "      <td>This is not ONLY climate change.   has had similar   EVERY YEAR for as long as I can remember. What we need is to start electing governments that actually care for nature, the place, the people, animals, etc. for a change, and not their pockets   ego.</td>\n",
       "      <td>-0.012500</td>\n",
       "      <td>0.475000</td>\n",
       "      <td>Negative</td>\n",
       "    </tr>\n",
       "    <tr>\n",
       "      <th>30</th>\n",
       "      <td>RT!! please. i’m begging my country is being burned to the ground. i’m chronically ill   disabled,   take care of many animals. we need your help. for food, meds, water bottles, canned foods..  paypal; its.joyfulkate .com</td>\n",
       "      <td>-0.066667</td>\n",
       "      <td>0.600000</td>\n",
       "      <td>Negative</td>\n",
       "    </tr>\n",
       "    <tr>\n",
       "      <th>34</th>\n",
       "      <td>The largest active wildfire in Europe   the Mediterranean is currently located in North Èvoia.  1.100 homes have been burned in less than a week.  A tragedy, the worst natural catastrophe in modern Greece and it hasn't stopped yet.</td>\n",
       "      <td>-0.166667</td>\n",
       "      <td>0.461111</td>\n",
       "      <td>Negative</td>\n",
       "    </tr>\n",
       "  </tbody>\n",
       "</table>\n",
       "</div>"
      ],
      "text/plain": [
       "                                                                                                                                                                                                                                                noemojis_tweets  \\\n",
       "2                                 RT!! please. i’m begging my country is being burned to the ground. i’m chronically ill   disabled,   take care of many animals. we need your help. for food, meds, water bottles, canned foods..  paypal; its.joyfulkate .com   \n",
       "5                                 RT!! please. i’m begging my country is being burned to the ground. i’m chronically ill   disabled,   take care of many animals. we need your help. for food, meds, water bottles, canned foods..  paypal; its.joyfulkate .com   \n",
       "24  This is not ONLY climate change.   has had similar   EVERY YEAR for as long as I can remember. What we need is to start electing governments that actually care for nature, the place, the people, animals, etc. for a change, and not their pockets   ego.   \n",
       "30                                RT!! please. i’m begging my country is being burned to the ground. i’m chronically ill   disabled,   take care of many animals. we need your help. for food, meds, water bottles, canned foods..  paypal; its.joyfulkate .com   \n",
       "34                      The largest active wildfire in Europe   the Mediterranean is currently located in North Èvoia.  1.100 homes have been burned in less than a week.  A tragedy, the worst natural catastrophe in modern Greece and it hasn't stopped yet.   \n",
       "\n",
       "    twits_polarity  twits_subjectivity polarity_kinds  \n",
       "2        -0.066667            0.600000       Negative  \n",
       "5        -0.066667            0.600000       Negative  \n",
       "24       -0.012500            0.475000       Negative  \n",
       "30       -0.066667            0.600000       Negative  \n",
       "34       -0.166667            0.461111       Negative  "
      ]
     },
     "execution_count": 122,
     "metadata": {},
     "output_type": "execute_result"
    }
   ],
   "source": [
    "eng_twits[eng_twits['polarity_kinds'] == 'Negative'][['noemojis_tweets','twits_polarity', 'twits_subjectivity', 'polarity_kinds']].head(5)"
   ]
  },
  {
   "cell_type": "code",
   "execution_count": 114,
   "metadata": {
    "ExecuteTime": {
     "end_time": "2021-11-26T11:30:56.099093Z",
     "start_time": "2021-11-26T11:30:56.055210Z"
    }
   },
   "outputs": [
    {
     "data": {
      "text/plain": [
       "Neutral     780\n",
       "Positive    410\n",
       "Negative    178\n",
       "Name: polarity_kinds, dtype: int64"
      ]
     },
     "execution_count": 114,
     "metadata": {},
     "output_type": "execute_result"
    }
   ],
   "source": [
    "eng_twits['polarity_kinds'].value_counts()"
   ]
  },
  {
   "cell_type": "code",
   "execution_count": 115,
   "metadata": {
    "ExecuteTime": {
     "end_time": "2021-11-26T11:31:03.231013Z",
     "start_time": "2021-11-26T11:31:03.185136Z"
    }
   },
   "outputs": [
    {
     "data": {
      "text/plain": [
       "Positive    824\n",
       "Negative    286\n",
       "Neutral     258\n",
       "Name: vader_polarity_kinds, dtype: int64"
      ]
     },
     "execution_count": 115,
     "metadata": {},
     "output_type": "execute_result"
    }
   ],
   "source": [
    "eng_twits['vader_polarity_kinds'].value_counts()"
   ]
  },
  {
   "cell_type": "code",
   "execution_count": 127,
   "metadata": {
    "ExecuteTime": {
     "end_time": "2021-11-26T12:58:47.346359Z",
     "start_time": "2021-11-26T12:58:47.326412Z"
    }
   },
   "outputs": [
    {
     "name": "stdout",
     "output_type": "stream",
     "text": [
      "Textblob's mean polarity:  0.12970357522845583\n",
      "Textblob's mean subjectivity:  0.47136775904909645 \n",
      "\n",
      "Vader's mean polarity:  0.2972186403508773\n"
     ]
    }
   ],
   "source": [
    "print(\"Textblob's mean polarity: \", eng_twits['twits_polarity'].mean())\n",
    "print(\"Textblob's mean subjectivity: \", eng_twits['twits_subjectivity'].mean(), '\\n')\n",
    "print(\"Vader's mean polarity: \", eng_twits['twits_vader_polarity'].mean())"
   ]
  },
  {
   "cell_type": "code",
   "execution_count": 128,
   "metadata": {
    "ExecuteTime": {
     "end_time": "2021-11-26T13:03:44.207988Z",
     "start_time": "2021-11-26T13:03:44.121952Z"
    }
   },
   "outputs": [],
   "source": [
    "eng_twits.to_csv('eng_twits_analyzed.csv', index=False)"
   ]
  },
  {
   "cell_type": "code",
   "execution_count": 75,
   "metadata": {
    "ExecuteTime": {
     "end_time": "2021-08-09T10:26:41.331673Z",
     "start_time": "2021-08-09T10:26:41.301753Z"
    }
   },
   "outputs": [],
   "source": [
    "eng_twits_analyzed = pd.read_csv('eng_twits_analyzed.csv')"
   ]
  }
 ],
 "metadata": {
  "kernelspec": {
   "display_name": "Python [conda env:root]",
   "language": "python",
   "name": "conda-root-py"
  },
  "language_info": {
   "codemirror_mode": {
    "name": "ipython",
    "version": 3
   },
   "file_extension": ".py",
   "mimetype": "text/x-python",
   "name": "python",
   "nbconvert_exporter": "python",
   "pygments_lexer": "ipython3",
   "version": "3.8.11"
  }
 },
 "nbformat": 4,
 "nbformat_minor": 4
}
